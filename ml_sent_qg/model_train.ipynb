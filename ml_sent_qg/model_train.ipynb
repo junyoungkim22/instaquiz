{
 "cells": [
  {
   "cell_type": "code",
   "execution_count": 2,
   "metadata": {},
   "outputs": [
    {
     "name": "stdout",
     "output_type": "stream",
     "text": [
      "Processing SquAD dataset...\n",
      "Processing done!\n"
     ]
    }
   ],
   "source": [
    "import torch as torch\n",
    "from encoder_decoder import GloveEncoderRNN, GloveAttnDecoderRNN, trainIters, evaluatePairs\n",
    "from global_var import MAPPER"
   ]
  },
  {
   "cell_type": "code",
   "execution_count": 3,
   "metadata": {
    "colab": {},
    "colab_type": "code",
    "id": "yIRJDF-96pNy"
   },
   "outputs": [],
   "source": [
    "device = torch.device(\"cuda\" if torch.cuda.is_available() else \"cpu\")\n",
    "#MAX_LENGTH = 100\n",
    "#data = squad_loader.process_file(\"train-v2.0.json\")\n",
    "#pairs = squad_loader.prepare_pairs(data)\n",
    "#pairs = squad_loader.prepare_ans_tagged_pairs(data)\n",
    "#pairs = squad_loader.prepare_ans_sent_pairs(data)\n",
    "#teacher_forcing_ratio = 0.5"
   ]
  },
  {
   "cell_type": "code",
   "execution_count": 4,
   "metadata": {
    "colab": {},
    "colab_type": "code",
    "id": "CFqeRMmatHsk"
   },
   "outputs": [],
   "source": [
    "hidden_size = 200\n",
    "encoder = GloveEncoderRNN(hidden_size).to(device)\n",
    "decoder = GloveAttnDecoderRNN(hidden_size).to(device)\n",
    " "
   ]
  },
  {
   "cell_type": "code",
   "execution_count": 5,
   "metadata": {
    "colab": {
     "base_uri": "https://localhost:8080/",
     "height": 1037
    },
    "colab_type": "code",
    "executionInfo": {
     "elapsed": 5344767,
     "status": "ok",
     "timestamp": 1552964493785,
     "user": {
      "displayName": "Junyoung Kim",
      "photoUrl": "",
      "userId": "11931625421765868164"
     },
     "user_tz": -540
    },
    "id": "JDRhc8u9vkwf",
    "outputId": "bd49c143-1b99-4498-ecf1-c9b55cd0b46a"
   },
   "outputs": [
    {
     "name": "stdout",
     "output_type": "stream",
     "text": [
      "2m 51s (- 83m 2s) (1000 3%) 5.2514\n",
      "5.2513571067\n",
      "5m 41s (- 79m 46s) (2000 6%) 4.9696\n",
      "4.96957325472\n",
      "8m 20s (- 75m 7s) (3000 10%) 4.9841\n",
      "4.98406948796\n",
      "11m 16s (- 73m 20s) (4000 13%) 4.9915\n",
      "4.99150388575\n",
      "14m 11s (- 70m 55s) (5000 16%) 4.8200\n",
      "4.81998157346\n",
      "16m 54s (- 67m 38s) (6000 20%) 4.6333\n",
      "4.63325831774\n",
      "19m 46s (- 64m 58s) (7000 23%) 4.7225\n",
      "4.72247233975\n",
      "22m 38s (- 62m 15s) (8000 26%) 4.8776\n",
      "4.87756224267\n",
      "25m 25s (- 59m 18s) (9000 30%) 4.8646\n",
      "4.86460080562\n",
      "28m 10s (- 56m 20s) (10000 33%) 4.8107\n",
      "4.81072435435\n",
      "30m 59s (- 53m 31s) (11000 36%) 4.8259\n",
      "4.82589389605\n",
      "33m 39s (- 50m 29s) (12000 40%) 4.8340\n",
      "4.83396735333\n",
      "36m 20s (- 47m 31s) (13000 43%) 4.5239\n",
      "4.52391721762\n",
      "39m 13s (- 44m 50s) (14000 46%) 4.7337\n",
      "4.73370332516\n",
      "42m 9s (- 42m 9s) (15000 50%) 4.6647\n",
      "4.66467931723\n",
      "44m 54s (- 39m 17s) (16000 53%) 4.6891\n",
      "4.68905250563\n",
      "48m 0s (- 36m 42s) (17000 56%) 4.9595\n",
      "4.95945866395\n",
      "50m 47s (- 33m 51s) (18000 60%) 4.6884\n",
      "4.68836248924\n",
      "53m 28s (- 30m 57s) (19000 63%) 4.6556\n",
      "4.65559119459\n",
      "56m 14s (- 28m 7s) (20000 66%) 4.7816\n",
      "4.78162743738\n",
      "59m 7s (- 25m 20s) (21000 70%) 4.7751\n",
      "4.77507634057\n",
      "61m 56s (- 22m 31s) (22000 73%) 4.7123\n",
      "4.71232696652\n",
      "64m 42s (- 19m 41s) (23000 76%) 4.5397\n",
      "4.5397484171\n",
      "67m 28s (- 16m 52s) (24000 80%) 4.8201\n",
      "4.82008956705\n",
      "70m 17s (- 14m 3s) (25000 83%) 4.7245\n",
      "4.72445779376\n",
      "73m 9s (- 11m 15s) (26000 86%) 4.6290\n",
      "4.62896394242\n",
      "75m 59s (- 8m 26s) (27000 90%) 4.8038\n",
      "4.80383858322\n",
      "78m 37s (- 5m 36s) (28000 93%) 4.6678\n",
      "4.66783001866\n",
      "81m 25s (- 2m 48s) (29000 96%) 4.6952\n",
      "4.69516668298\n",
      "84m 11s (- 0m 0s) (30000 100%) 4.6094\n",
      "4.60939632544\n"
     ]
    }
   ],
   "source": [
    "trainIters(encoder, decoder, 30000, print_every=1000, plot_every=1000)"
   ]
  },
  {
   "cell_type": "code",
   "execution_count": 9,
   "metadata": {
    "colab": {
     "base_uri": "https://localhost:8080/",
     "height": 6837
    },
    "colab_type": "code",
    "executionInfo": {
     "elapsed": 4973,
     "status": "ok",
     "timestamp": 1552964557420,
     "user": {
      "displayName": "Junyoung Kim",
      "photoUrl": "",
      "userId": "11931625421765868164"
     },
     "user_tz": -540
    },
    "id": "O_-i6MEpv0Ec",
    "outputId": "06711b2f-c08f-4b17-eadc-0e16622803e1"
   },
   "outputs": [
    {
     "name": "stdout",
     "output_type": "stream",
     "text": [
      "('T: ', ' The Iraq War was  <anss> deeply unpopular <anse>  in most western countries, with Western governments divided in their support and under pressure from worldwide popular protests')\n",
      "('Q: ', 'Was the idea of the Iraq War popular or unpopular in Western countries?')\n",
      "('Q? ', u'who was the the the the the')\n",
      " \n",
      "('T: ', 'Blair announced in  <anss> September 2006 <anse>  that he would quit as leader within the year, though he had been under pressure to quit earlier than May 2007 in order to get a new leader in place before the May elections which were expected to be disastrous for Labour')\n",
      "('Q: ', 'When did Blair announce he was quitting?')\n",
      "('Q? ', u'who was the the the the the the ?')\n",
      " \n",
      "('T: ', 'Blair announced in September 2006 that he would quit as leader within the year, though he had been under pressure to quit earlier than  <anss> May 2007 <anse>  in order to get a new leader in place before the May elections which were expected to be disastrous for Labour')\n",
      "('Q: ', 'When were the next elections?')\n",
      "('Q? ', u'who was the the the the the the')\n",
      " \n",
      "('T: ', ' In the event, the party did lose power in Scotland to a minority  <anss> Scottish National Party <anse>  government at the 2007 elections and, shortly after this, Blair resigned as Prime Minister and was replaced by his Chancellor, Gordon Brown')\n",
      "('Q: ', 'Who did Labour lose power in the election to?')\n",
      "('Q? ', u'who was the the the the the')\n",
      " \n",
      "('T: ', ' In the event, the party did lose power in Scotland to a minority Scottish National Party government at the 2007 elections and, shortly after this, Blair resigned as Prime Minister and was replaced by  <anss> his Chancellor, Gordon Brown <anse> ')\n",
      "('Q: ', 'Who was Blair replaced by?')\n",
      "('Q? ', u'what was the the the the the the')\n",
      " \n",
      "('T: ', ' Membership of the party also reached a low ebb, falling to  <anss> 156,205 <anse>  by the end of 2009: over 40 per cent of the 405,000 peak reached in 1997 and thought to be the lowest total since the party was founded')\n",
      "('Q: ', 'What was the party membership at the end of 2009?')\n",
      "('Q? ', u'how many the were the the the the the')\n",
      " \n",
      "('T: ', u'Estonia (i/\\u025b\\u02c8sto\\u028ani\\u0259/; Estonian: Eesti [\\u02c8e\\u02d0sti]), officially  <anss> the Republic of Estonia <anse>  (Estonian: Eesti Vabariik), is a country in the Baltic region of Northern Europe')\n",
      "('Q: ', 'What is the official name for Estonia?')\n",
      "('Q? ', u'what is the the the the')\n",
      " \n",
      "('T: ', u'Estonia (i/\\u025b\\u02c8sto\\u028ani\\u0259/; Estonian: Eesti [\\u02c8e\\u02d0sti]), officially the Republic of Estonia (Estonian: Eesti Vabariik), is a country in  <anss> the Baltic region <anse>  of Northern Europe')\n",
      "('Q: ', 'Where is Estonia located in Northern Europe?')\n",
      "('Q? ', u'what is the the the the')\n",
      " \n",
      "('T: ', u' It is bordered to the north by  <anss> the Gulf of Finland <anse> , to the west by the Baltic Sea, to the south by Latvia (343 km), and to the east by Lake Peipus and Russia (338')\n",
      "('Q: ', 'What borders the north of Estonia?')\n",
      "('Q? ', u'what was the the the the the')\n",
      " \n",
      "('T: ', u' It is bordered to the north by the Gulf of Finland, to the west by  <anss> the Baltic Sea <anse> , to the south by Latvia (343 km), and to the east by Lake Peipus and Russia (338')\n",
      "('Q: ', 'What body of water borders Estonia on the west?')\n",
      "('Q? ', u'what was the the the the the')\n",
      " \n"
     ]
    }
   ],
   "source": [
    "evaluatePairs(encoder, decoder, 10)"
   ]
  },
  {
   "cell_type": "code",
   "execution_count": 8,
   "metadata": {
    "colab": {
     "base_uri": "https://localhost:8080/",
     "height": 6971
    },
    "colab_type": "code",
    "executionInfo": {
     "elapsed": 4452,
     "status": "ok",
     "timestamp": 1552466425200,
     "user": {
      "displayName": "Junyoung Kim",
      "photoUrl": "",
      "userId": "11931625421765868164"
     },
     "user_tz": -540
    },
    "id": "qrSPAiNcVsWl",
    "outputId": "916258d2-3268-4b20-9c36-70a5260a17c6"
   },
   "outputs": [
    {
     "ename": "NameError",
     "evalue": "global name 'EncoderRNN' is not defined",
     "output_type": "error",
     "traceback": [
      "\u001b[0;31m---------------------------------------------------------------------------\u001b[0m",
      "\u001b[0;31mNameError\u001b[0m                                 Traceback (most recent call last)",
      "\u001b[0;32m<ipython-input-8-172db666616f>\u001b[0m in \u001b[0;36m<module>\u001b[0;34m()\u001b[0m\n\u001b[1;32m      1\u001b[0m \u001b[0;32mimport\u001b[0m \u001b[0mencoder_decoder\u001b[0m\u001b[0;34m\u001b[0m\u001b[0m\n\u001b[0;32m----> 2\u001b[0;31m \u001b[0mencoder_decoder\u001b[0m\u001b[0;34m.\u001b[0m\u001b[0mload_models\u001b[0m\u001b[0;34m(\u001b[0m\u001b[0;34m\"/content/\"\u001b[0m\u001b[0;34m)\u001b[0m\u001b[0;34m\u001b[0m\u001b[0m\n\u001b[0m",
      "\u001b[0;32m/home/junyoung2/instaquiz/ml_sent_qg/encoder_decoder.pyc\u001b[0m in \u001b[0;36mload_models\u001b[0;34m(PATH)\u001b[0m\n\u001b[1;32m    228\u001b[0m     \u001b[0mhidden_size\u001b[0m \u001b[0;34m=\u001b[0m \u001b[0;36m256\u001b[0m\u001b[0;34m\u001b[0m\u001b[0m\n\u001b[1;32m    229\u001b[0m     \u001b[0mmapper\u001b[0m \u001b[0;34m=\u001b[0m \u001b[0mWordIndexMapper\u001b[0m\u001b[0;34m(\u001b[0m\u001b[0;34m\"word_to_index.pkl\"\u001b[0m\u001b[0;34m,\u001b[0m \u001b[0;34m\"index_to_word.pkl\"\u001b[0m\u001b[0;34m,\u001b[0m \u001b[0;34m\"word_to_count.pkl\"\u001b[0m\u001b[0;34m)\u001b[0m\u001b[0;34m\u001b[0m\u001b[0m\n\u001b[0;32m--> 230\u001b[0;31m     \u001b[0mencoder\u001b[0m \u001b[0;34m=\u001b[0m \u001b[0mEncoderRNN\u001b[0m\u001b[0;34m(\u001b[0m\u001b[0mmapper\u001b[0m\u001b[0;34m.\u001b[0m\u001b[0mn_words\u001b[0m\u001b[0;34m,\u001b[0m \u001b[0mhidden_size\u001b[0m\u001b[0;34m)\u001b[0m\u001b[0;34m.\u001b[0m\u001b[0mto\u001b[0m\u001b[0;34m(\u001b[0m\u001b[0mDEVICE\u001b[0m\u001b[0;34m)\u001b[0m\u001b[0;34m\u001b[0m\u001b[0m\n\u001b[0m\u001b[1;32m    231\u001b[0m     \u001b[0mattn_decoder\u001b[0m \u001b[0;34m=\u001b[0m \u001b[0mAttnDecoderRNN\u001b[0m\u001b[0;34m(\u001b[0m\u001b[0mhidden_size\u001b[0m\u001b[0;34m,\u001b[0m \u001b[0mmapper\u001b[0m\u001b[0;34m.\u001b[0m\u001b[0mn_words\u001b[0m\u001b[0;34m)\u001b[0m\u001b[0;34m.\u001b[0m\u001b[0mto\u001b[0m\u001b[0;34m(\u001b[0m\u001b[0mdevice\u001b[0m\u001b[0;34m)\u001b[0m\u001b[0;34m\u001b[0m\u001b[0m\n\u001b[1;32m    232\u001b[0m     \u001b[0mencoder\u001b[0m\u001b[0;34m.\u001b[0m\u001b[0mload_state_dict\u001b[0m\u001b[0;34m(\u001b[0m\u001b[0mtorch\u001b[0m\u001b[0;34m.\u001b[0m\u001b[0mload\u001b[0m\u001b[0;34m(\u001b[0m\u001b[0mPATH\u001b[0m \u001b[0;34m+\u001b[0m \u001b[0;34m\"50k_encoder\"\u001b[0m\u001b[0;34m)\u001b[0m\u001b[0;34m)\u001b[0m\u001b[0;34m\u001b[0m\u001b[0m\n",
      "\u001b[0;31mNameError\u001b[0m: global name 'EncoderRNN' is not defined"
     ]
    }
   ],
   "source": [
    "import encoder_decoder\n",
    "encoder_decoder.load_models(\"/content/\")"
   ]
  },
  {
   "cell_type": "code",
   "execution_count": 0,
   "metadata": {
    "colab": {
     "base_uri": "https://localhost:8080/",
     "height": 35
    },
    "colab_type": "code",
    "executionInfo": {
     "elapsed": 1311,
     "status": "ok",
     "timestamp": 1552466498176,
     "user": {
      "displayName": "Junyoung Kim",
      "photoUrl": "",
      "userId": "11931625421765868164"
     },
     "user_tz": -540
    },
    "id": "ev0RaHpjvHJ7",
    "outputId": "91432381-b03c-4970-aea4-3db12a9551cc"
   },
   "outputs": [
    {
     "name": "stdout",
     "output_type": "stream",
     "text": [
      "what many did the in in ? ?\n"
     ]
    }
   ],
   "source": [
    "import torch\n",
    "from encoder_decoder import evaluate\n",
    "input_text = \"Throughout her career, Beyoncé<noun> has sold over <anss> 100 million records <anse> worldwide as a solo artist, and a further 60 million records with Destiny's Child\"\n",
    "encoder = EncoderRNN(mapper.n_words, hidden_size).to(device)\n",
    "decoder = AttnDecoderRNN(hidden_size, mapper.n_words).to(device)\n",
    "encoder.load_state_dict(torch.load(\"/content/50k_encoder\"))\n",
    "decoder.load_state_dict(torch.load(\"/content/50k_decoder\"))\n",
    "output, attentions = evaluate(encoder, decoder, input_text, mapper, True)\n",
    "print(' '.join(output))"
   ]
  },
  {
   "cell_type": "code",
   "execution_count": 0,
   "metadata": {
    "colab": {},
    "colab_type": "code",
    "id": "dOp1GGCssyzy"
   },
   "outputs": [],
   "source": [
    "!git pull origin master"
   ]
  },
  {
   "cell_type": "code",
   "execution_count": 0,
   "metadata": {
    "colab": {
     "base_uri": "https://localhost:8080/",
     "height": 34
    },
    "colab_type": "code",
    "executionInfo": {
     "elapsed": 2634,
     "status": "ok",
     "timestamp": 1552449228896,
     "user": {
      "displayName": "Junyoung Kim",
      "photoUrl": "",
      "userId": "11931625421765868164"
     },
     "user_tz": -540
    },
    "id": "0eCMOInjLziV",
    "outputId": "f4d805b2-8e00-4c1f-a079-a0eb98c86d53"
   },
   "outputs": [
    {
     "name": "stdout",
     "output_type": "stream",
     "text": [
      "/content/instaquiz/ml_sent_qg\n"
     ]
    }
   ],
   "source": [
    "!pwd"
   ]
  },
  {
   "cell_type": "code",
   "execution_count": 0,
   "metadata": {
    "colab": {},
    "colab_type": "code",
    "id": "lM1fxZa4LMCU"
   },
   "outputs": [],
   "source": [
    "torch.save(encoder1.state_dict(),\"/content/50k_encoder\")"
   ]
  }
 ],
 "metadata": {
  "accelerator": "GPU",
  "colab": {
   "collapsed_sections": [],
   "name": "model_train.ipynb",
   "provenance": [],
   "version": "0.3.2"
  },
  "kernelspec": {
   "display_name": "Python 2",
   "language": "python",
   "name": "python2"
  },
  "language_info": {
   "codemirror_mode": {
    "name": "ipython",
    "version": 2
   },
   "file_extension": ".py",
   "mimetype": "text/x-python",
   "name": "python",
   "nbconvert_exporter": "python",
   "pygments_lexer": "ipython2",
   "version": "2.7.12"
  }
 },
 "nbformat": 4,
 "nbformat_minor": 1
}
