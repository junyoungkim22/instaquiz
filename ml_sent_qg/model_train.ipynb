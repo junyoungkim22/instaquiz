{
 "cells": [
  {
   "cell_type": "code",
   "execution_count": 1,
   "metadata": {},
   "outputs": [
    {
     "name": "stdout",
     "output_type": "stream",
     "text": [
      "Processing SquAD dataset...\n",
      "Processing done!\n"
     ]
    }
   ],
   "source": [
    "import torch as torch\n",
    "from encoder_decoder import GloveEncoderRNN, GloveAttnDecoderRNN, trainIters, evaluatePairs\n",
    "from global_var import MAPPER\n",
    "%load_ext autoreload"
   ]
  },
  {
   "cell_type": "code",
   "execution_count": 2,
   "metadata": {},
   "outputs": [],
   "source": [
    "%autoreload"
   ]
  },
  {
   "cell_type": "code",
   "execution_count": 3,
   "metadata": {
    "colab": {},
    "colab_type": "code",
    "id": "yIRJDF-96pNy"
   },
   "outputs": [],
   "source": [
    "device = torch.device(\"cuda\" if torch.cuda.is_available() else \"cpu\")\n",
    "#MAX_LENGTH = 100\n",
    "#data = squad_loader.process_file(\"train-v2.0.json\")\n",
    "#pairs = squad_loader.prepare_pairs(data)\n",
    "#pairs = squad_loader.prepare_ans_tagged_pairs(data)\n",
    "#pairs = squad_loader.prepare_ans_sent_pairs(data)\n",
    "#teacher_forcing_ratio = 0.5"
   ]
  },
  {
   "cell_type": "code",
   "execution_count": 4,
   "metadata": {
    "colab": {},
    "colab_type": "code",
    "id": "CFqeRMmatHsk"
   },
   "outputs": [],
   "source": [
    "emb_dim = 200\n",
    "encoder = GloveEncoderRNN(emb_dim).to(device)\n",
    "decoder = GloveAttnDecoderRNN(emb_dim).to(device)\n",
    " "
   ]
  },
  {
   "cell_type": "code",
   "execution_count": 8,
   "metadata": {
    "colab": {
     "base_uri": "https://localhost:8080/",
     "height": 1037
    },
    "colab_type": "code",
    "executionInfo": {
     "elapsed": 5344767,
     "status": "ok",
     "timestamp": 1552964493785,
     "user": {
      "displayName": "Junyoung Kim",
      "photoUrl": "",
      "userId": "11931625421765868164"
     },
     "user_tz": -540
    },
    "id": "JDRhc8u9vkwf",
    "outputId": "bd49c143-1b99-4498-ecf1-c9b55cd0b46a"
   },
   "outputs": [
    {
     "name": "stdout",
     "output_type": "stream",
     "text": [
      "0m 1s (- 2m 15s) (10 1%) -0.0000\n",
      "-1.66444564328e-05\n",
      "0m 2s (- 2m 7s) (20 2%) -0.0000\n",
      "-1.65774954738e-05\n",
      "0m 3s (- 2m 1s) (30 3%) -0.0000\n",
      "-1.66356080024e-05\n",
      "0m 5s (- 2m 1s) (40 4%) -0.0000\n",
      "-1.6539417184e-05\n",
      "0m 6s (- 1m 57s) (50 5%) -0.0000\n",
      "-1.6578996767e-05\n",
      "0m 7s (- 1m 54s) (60 6%) -0.0000\n",
      "-1.66307419534e-05\n",
      "0m 8s (- 1m 54s) (70 7%) -0.0000\n",
      "-1.6587429594e-05\n",
      "0m 9s (- 1m 53s) (80 8%) -0.0000\n",
      "-1.66367038903e-05\n",
      "0m 11s (- 1m 53s) (90 9%) -0.0000\n",
      "-1.65773014451e-05\n",
      "0m 12s (- 1m 50s) (100 10%) -0.0000\n",
      "-1.65518473005e-05\n",
      "0m 13s (- 1m 48s) (110 11%) -0.0000\n",
      "-1.66347961619e-05\n",
      "0m 14s (- 1m 48s) (120 12%) -0.0000\n",
      "-1.66754804177e-05\n",
      "0m 16s (- 1m 47s) (130 13%) -0.0000\n",
      "-1.66499155696e-05\n",
      "0m 17s (- 1m 47s) (140 14%) -0.0000\n",
      "-1.65771735357e-05\n",
      "0m 19s (- 1m 47s) (150 15%) -0.0000\n",
      "-1.653135887e-05\n",
      "0m 20s (- 1m 46s) (160 16%) -0.0000\n",
      "-1.65376003006e-05\n",
      "0m 21s (- 1m 44s) (170 17%) -0.0000\n",
      "-1.65838100085e-05\n",
      "0m 22s (- 1m 42s) (180 18%) -0.0000\n",
      "-1.66301457676e-05\n",
      "0m 23s (- 1m 40s) (190 19%) -0.0000\n",
      "-1.6683636718e-05\n",
      "0m 24s (- 1m 39s) (200 20%) -0.0000\n",
      "-1.65541381684e-05\n",
      "0m 26s (- 1m 38s) (210 21%) -0.0000\n",
      "-1.67495018106e-05\n",
      "0m 27s (- 1m 36s) (220 22%) -0.0000\n",
      "-1.66577958292e-05\n",
      "0m 28s (- 1m 35s) (230 23%) -0.0000\n",
      "-1.66537230901e-05\n",
      "0m 29s (- 1m 33s) (240 24%) -0.0000\n",
      "-1.66995478123e-05\n",
      "0m 30s (- 1m 31s) (250 25%) -0.0000\n",
      "-1.65971012267e-05\n",
      "0m 31s (- 1m 30s) (260 26%) -0.0000\n",
      "-1.6588434202e-05\n",
      "0m 32s (- 1m 28s) (270 27%) -0.0000\n",
      "-1.65918668263e-05\n",
      "0m 33s (- 1m 27s) (280 28%) -0.0000\n",
      "-1.6575758856e-05\n",
      "0m 35s (- 1m 25s) (290 28%) -0.0000\n",
      "-1.65960416276e-05\n",
      "0m 36s (- 1m 24s) (300 30%) -0.0000\n",
      "-1.65738704565e-05\n",
      "0m 37s (- 1m 23s) (310 31%) -0.0000\n",
      "-1.66794295793e-05\n",
      "0m 38s (- 1m 22s) (320 32%) -0.0000\n",
      "-1.6558515175e-05\n",
      "0m 39s (- 1m 20s) (330 33%) -0.0000\n",
      "-1.65986988982e-05\n",
      "0m 40s (- 1m 19s) (340 34%) -0.0000\n",
      "-1.65993054638e-05\n",
      "0m 41s (- 1m 17s) (350 35%) -0.0000\n",
      "-1.66183473655e-05\n",
      "0m 43s (- 1m 16s) (360 36%) -0.0000\n",
      "-1.6605798651e-05\n",
      "0m 44s (- 1m 15s) (370 37%) -0.0000\n",
      "-1.6622393911e-05\n",
      "0m 45s (- 1m 13s) (380 38%) -0.0000\n",
      "-1.67088443065e-05\n",
      "0m 46s (- 1m 12s) (390 39%) -0.0000\n",
      "-1.67415351153e-05\n",
      "0m 47s (- 1m 11s) (400 40%) -0.0000\n",
      "-1.67089137216e-05\n",
      "0m 48s (- 1m 10s) (410 41%) -0.0000\n",
      "-1.67052531657e-05\n",
      "0m 50s (- 1m 9s) (420 42%) -0.0000\n",
      "-1.65940532656e-05\n",
      "0m 51s (- 1m 7s) (430 43%) -0.0000\n",
      "-1.65620625899e-05\n",
      "0m 52s (- 1m 6s) (440 44%) -0.0000\n",
      "-1.65846364443e-05\n",
      "0m 53s (- 1m 5s) (450 45%) -0.0000\n",
      "-1.67243541267e-05\n",
      "0m 54s (- 1m 4s) (460 46%) -0.0000\n",
      "-1.66768129955e-05\n",
      "0m 56s (- 1m 3s) (470 47%) -0.0000\n",
      "-1.65935765289e-05\n",
      "0m 57s (- 1m 2s) (480 48%) -0.0000\n",
      "-1.659754538e-05\n",
      "0m 58s (- 1m 0s) (490 49%) -0.0000\n",
      "-1.65544857215e-05\n",
      "0m 59s (- 0m 59s) (500 50%) -0.0000\n",
      "-1.66008096651e-05\n",
      "1m 0s (- 0m 58s) (510 51%) -0.0000\n",
      "-1.66505176695e-05\n",
      "1m 1s (- 0m 56s) (520 52%) -0.0000\n",
      "-1.66859099311e-05\n",
      "1m 3s (- 0m 55s) (530 53%) -0.0000\n",
      "-1.65869051652e-05\n",
      "1m 4s (- 0m 54s) (540 54%) -0.0000\n",
      "-1.66653334685e-05\n",
      "1m 5s (- 0m 53s) (550 55%) -0.0000\n",
      "-1.66713102686e-05\n",
      "1m 6s (- 0m 52s) (560 56%) -0.0000\n",
      "-1.6640863999e-05\n",
      "1m 7s (- 0m 51s) (570 56%) -0.0000\n",
      "-1.66339110566e-05\n",
      "1m 9s (- 0m 50s) (580 57%) -0.0000\n",
      "-1.6632762313e-05\n",
      "1m 10s (- 0m 48s) (590 59%) -0.0000\n",
      "-1.66713283401e-05\n",
      "1m 11s (- 0m 47s) (600 60%) -0.0000\n",
      "-1.66024479956e-05\n",
      "1m 13s (- 0m 46s) (610 61%) -0.0000\n",
      "-1.66559198923e-05\n",
      "1m 14s (- 0m 45s) (620 62%) -0.0000\n",
      "-1.64382735229e-05\n",
      "1m 15s (- 0m 44s) (630 63%) -0.0000\n",
      "-1.64702980938e-05\n",
      "1m 16s (- 0m 43s) (640 64%) -0.0000\n",
      "-1.65089639289e-05\n",
      "1m 18s (- 0m 42s) (650 65%) -0.0000\n",
      "-1.6677456652e-05\n",
      "1m 19s (- 0m 40s) (660 66%) -0.0000\n",
      "-1.65022516784e-05\n",
      "1m 20s (- 0m 39s) (670 67%) -0.0000\n",
      "-1.65464117206e-05\n",
      "1m 21s (- 0m 38s) (680 68%) -0.0000\n",
      "-1.66228032682e-05\n",
      "1m 22s (- 0m 37s) (690 69%) -0.0000\n",
      "-1.66482484758e-05\n",
      "1m 23s (- 0m 35s) (700 70%) -0.0000\n",
      "-1.6566458958e-05\n",
      "1m 25s (- 0m 34s) (710 71%) -0.0000\n",
      "-1.6633107694e-05\n",
      "1m 26s (- 0m 33s) (720 72%) -0.0000\n",
      "-1.67049944807e-05\n",
      "1m 27s (- 0m 32s) (730 73%) -0.0000\n",
      "-1.66605143408e-05\n",
      "1m 29s (- 0m 31s) (740 74%) -0.0000\n",
      "-1.66187349617e-05\n",
      "1m 30s (- 0m 30s) (750 75%) -0.0000\n",
      "-1.66377863263e-05\n",
      "1m 31s (- 0m 28s) (760 76%) -0.0000\n",
      "-1.66344702165e-05\n",
      "1m 32s (- 0m 27s) (770 77%) -0.0000\n",
      "-1.6592385608e-05\n",
      "1m 33s (- 0m 26s) (780 78%) -0.0000\n",
      "-1.6582461522e-05\n",
      "1m 35s (- 0m 25s) (790 79%) -0.0000\n",
      "-1.66223348652e-05\n",
      "1m 36s (- 0m 24s) (800 80%) -0.0000\n",
      "-1.66284622026e-05\n",
      "1m 37s (- 0m 22s) (810 81%) -0.0000\n",
      "-1.66729652727e-05\n",
      "1m 38s (- 0m 21s) (820 82%) -0.0000\n",
      "-1.66282447434e-05\n",
      "1m 40s (- 0m 20s) (830 83%) -0.0000\n",
      "-1.65524741359e-05\n",
      "1m 41s (- 0m 19s) (840 84%) -0.0000\n",
      "-1.65186568758e-05\n",
      "1m 42s (- 0m 18s) (850 85%) -0.0000\n",
      "-1.66101071737e-05\n",
      "1m 43s (- 0m 16s) (860 86%) -0.0000\n",
      "-1.66605917929e-05\n",
      "1m 44s (- 0m 15s) (870 87%) -0.0000\n",
      "-1.66351721105e-05\n",
      "1m 46s (- 0m 14s) (880 88%) -0.0000\n",
      "-1.67320371747e-05\n",
      "1m 47s (- 0m 13s) (890 89%) -0.0000\n",
      "-1.66653074263e-05\n",
      "1m 48s (- 0m 12s) (900 90%) -0.0000\n",
      "-1.67097542003e-05\n",
      "1m 50s (- 0m 10s) (910 91%) -0.0000\n",
      "-1.66819903608e-05\n",
      "1m 51s (- 0m 9s) (920 92%) -0.0000\n",
      "-1.66816709089e-05\n",
      "1m 53s (- 0m 8s) (930 93%) -0.0000\n",
      "-1.66220136414e-05\n",
      "1m 54s (- 0m 7s) (940 94%) -0.0000\n",
      "-1.66762594695e-05\n",
      "1m 55s (- 0m 6s) (950 95%) -0.0000\n",
      "-1.67697547578e-05\n",
      "1m 57s (- 0m 4s) (960 96%) -0.0000\n",
      "-1.6669246314e-05\n",
      "1m 58s (- 0m 3s) (970 97%) -0.0000\n",
      "-1.67572135929e-05\n",
      "2m 0s (- 0m 2s) (980 98%) -0.0000\n",
      "-1.66915338596e-05\n",
      "2m 1s (- 0m 1s) (990 99%) -0.0000\n",
      "-1.67258085628e-05\n",
      "2m 2s (- 0m 0s) (1000 100%) -0.0000\n",
      "-1.67610545852e-05\n"
     ]
    }
   ],
   "source": [
    "trainIters(encoder, decoder, 1000, 0, print_every=10, plot_every=1000, learning_rate=0.005)"
   ]
  },
  {
   "cell_type": "code",
   "execution_count": 7,
   "metadata": {
    "colab": {
     "base_uri": "https://localhost:8080/",
     "height": 6837
    },
    "colab_type": "code",
    "executionInfo": {
     "elapsed": 4973,
     "status": "ok",
     "timestamp": 1552964557420,
     "user": {
      "displayName": "Junyoung Kim",
      "photoUrl": "",
      "userId": "11931625421765868164"
     },
     "user_tz": -540
    },
    "id": "O_-i6MEpv0Ec",
    "outputId": "06711b2f-c08f-4b17-eadc-0e16622803e1"
   },
   "outputs": [
    {
     "name": "stdout",
     "output_type": "stream",
     "text": [
      "('T: ', ' The Iraq War was  <anss> deeply unpopular <anse>  in most western countries, with Western governments divided in their support and under pressure from worldwide popular protests')\n",
      "('Q: ', 'Was the idea of the Iraq War popular or unpopular in Western countries?')\n",
      "('Q? ', u'proverbial proverbial directive zhongshan chambre canada canada riverwalk chambre chambre canada riverwalk sheds sheds sheds woolwich sheds woolwich sequel sequel sequel sequel sequel sequel snooker zhongshan sheds sheds sheds woolwich')\n",
      "('BLEU score: ', 1.2101603989854135e-78)\n",
      " \n",
      "('T: ', 'Blair announced in  <anss> September 2006 <anse>  that he would quit as leader within the year, though he had been under pressure to quit earlier than May 2007 in order to get a new leader in place before the May elections which were expected to be disastrous for Labour')\n",
      "('Q: ', 'When did Blair announce he was quitting?')\n",
      "('Q? ', u'proverbial directive zhongshan zhongshan canada canada riverwalk riverwalk chambre canada sheds sheds sheds woolwich sheds sequel sequel sequel sequel sequel sequel snooker zhongshan sheds sheds sheds woolwich sequel sequel sequel')\n",
      "('BLEU score: ', 1.0527856305036355e-78)\n",
      " \n",
      "('T: ', 'Blair announced in September 2006 that he would quit as leader within the year, though he had been under pressure to quit earlier than  <anss> May 2007 <anse>  in order to get a new leader in place before the May elections which were expected to be disastrous for Labour')\n",
      "('Q: ', 'When were the next elections?')\n",
      "('Q? ', u'proverbial directive zhongshan zhongshan canada canada riverwalk riverwalk chambre canada sheds sheds sheds woolwich sheds sequel sequel sequel sequel sequel sequel snooker zhongshan sheds sheds sheds woolwich sequel sequel sequel')\n",
      "('BLEU score: ', 0.02515791549223998)\n",
      " \n",
      "('T: ', ' In the event, the party did lose power in Scotland to a minority  <anss> Scottish National Party <anse>  government at the 2007 elections and, shortly after this, Blair resigned as Prime Minister and was replaced by his Chancellor, Gordon Brown')\n",
      "('Q: ', 'Who did Labour lose power in the election to?')\n",
      "('Q? ', u'proverbial directive zhongshan chambre canada zhongshan canada riverwalk chambre canada riverwalk chambre sheds sheds sheds woolwich sheds woolwich sequel sequel sequel sequel sequel sequel snooker zhongshan sheds sheds sheds woolwich')\n",
      "('BLEU score: ', 0.031152590876108482)\n",
      " \n",
      "('T: ', ' In the event, the party did lose power in Scotland to a minority Scottish National Party government at the 2007 elections and, shortly after this, Blair resigned as Prime Minister and was replaced by  <anss> his Chancellor, Gordon Brown <anse> ')\n",
      "('Q: ', 'Who was Blair replaced by?')\n",
      "('Q? ', u'proverbial directive zhongshan chambre canada zhongshan canada riverwalk chambre canada riverwalk chambre sheds sheds sheds woolwich sheds woolwich sequel sequel sequel sequel sequel sequel snooker zhongshan sheds sheds sheds woolwich')\n",
      "('BLEU score: ', 3.7807233594797945e-155)\n",
      " \n",
      "('T: ', ' Membership of the party also reached a low ebb, falling to  <anss> 156,205 <anse>  by the end of 2009: over 40 per cent of the 405,000 peak reached in 1997 and thought to be the lowest total since the party was founded')\n",
      "('Q: ', 'What was the party membership at the end of 2009?')\n",
      "('Q? ', u'hummus emmerich emmerich riverwalk madrigal woolwich woolwich refers refers refers decriminalising decriminalising decriminalising lays bridwell sequel sequel sequel sequel sequel snooker sheds sheds sheds woolwich sequel sequel sequel sequel sequel')\n",
      "('BLEU score: ', 8.971082593507121e-79)\n",
      " \n",
      "('T: ', u'Estonia (i/\\u025b\\u02c8sto\\u028ani\\u0259/; Estonian: Eesti [\\u02c8e\\u02d0sti]), officially  <anss> the Republic of Estonia <anse>  (Estonian: Eesti Vabariik), is a country in the Baltic region of Northern Europe')\n",
      "('Q: ', 'What is the official name for Estonia?')\n",
      "('Q? ', u'proverbial directive zhongshan zhongshan canada canada riverwalk chambre canada riverwalk chambre sheds sheds sheds woolwich sheds woolwich sequel sequel sequel sequel sequel sequel snooker zhongshan sheds sheds sheds woolwich sequel')\n",
      "('BLEU score: ', 0.023816177715889238)\n",
      " \n",
      "('T: ', u'Estonia (i/\\u025b\\u02c8sto\\u028ani\\u0259/; Estonian: Eesti [\\u02c8e\\u02d0sti]), officially the Republic of Estonia (Estonian: Eesti Vabariik), is a country in  <anss> the Baltic region <anse>  of Northern Europe')\n",
      "('Q: ', 'Where is Estonia located in Northern Europe?')\n",
      "('Q? ', u'proverbial directive zhongshan zhongshan canada canada riverwalk chambre canada riverwalk chambre sheds sheds sheds woolwich sheds woolwich sequel sequel sequel sequel sequel sequel snooker zhongshan sheds sheds sheds woolwich sequel')\n",
      "('BLEU score: ', 1.0620542210466951e-78)\n",
      " \n",
      "('T: ', u' It is bordered to the north by  <anss> the Gulf of Finland <anse> , to the west by the Baltic Sea, to the south by Latvia (343 km), and to the east by Lake Peipus and Russia (338')\n",
      "('Q: ', 'What borders the north of Estonia?')\n",
      "('Q? ', u'proverbial proverbial directive zhongshan chambre canada canada riverwalk chambre chambre canada riverwalk sheds sheds sheds woolwich sheds woolwich sequel sequel sequel sequel sequel sequel snooker zhongshan sheds sheds sheds woolwich')\n",
      "('BLEU score: ', 4.053979978169661e-155)\n",
      " \n",
      "('T: ', u' It is bordered to the north by the Gulf of Finland, to the west by  <anss> the Baltic Sea <anse> , to the south by Latvia (343 km), and to the east by Lake Peipus and Russia (338')\n",
      "('Q: ', 'What body of water borders Estonia on the west?')\n",
      "('Q? ', u'proverbial proverbial directive zhongshan chambre canada canada riverwalk chambre chambre canada riverwalk sheds sheds sheds woolwich sheds woolwich sequel sequel sequel sequel sequel sequel snooker zhongshan sheds sheds sheds woolwich')\n",
      "('BLEU score: ', 1.0165879946588716e-78)\n",
      " \n",
      "('T: ', u' It is bordered to the north by the Gulf of Finland, to the west by the Baltic Sea, to the south by  <anss> Latvia <anse>  (343 km), and to the east by Lake Peipus and Russia (338')\n",
      "('Q: ', 'What country borders south Estonia?')\n",
      "('Q? ', u'proverbial proverbial directive zhongshan chambre canada canada riverwalk chambre chambre canada riverwalk sheds sheds sheds woolwich sheds woolwich sequel sequel sequel sequel sequel sequel snooker zhongshan sheds sheds sheds woolwich')\n",
      "('BLEU score: ', 8.343096147222329e-79)\n",
      " \n",
      "('T: ', 'After centuries of  <anss> Danish, Swedish and German rule <anse>  the native Estonians started to yearn for independence during the period of national awakening while being governed by the Russian Empire')\n",
      "('Q: ', \"Who was in control of Estonia for most of the country's history?\")\n",
      "('Q? ', u'proverbial proverbial directive zhongshan chambre canada canada riverwalk chambre chambre canada riverwalk sheds sheds sheds woolwich sheds woolwich sequel sequel sequel sequel sequel sequel snooker zhongshan sheds sheds sheds woolwich')\n",
      "('BLEU score: ', 1.3739487610263e-78)\n",
      " \n",
      "('T: ', 'After centuries of Danish, Swedish and German rule the native Estonians started to yearn for independence during  <anss> the period of national awakening <anse>  while being governed by the Russian Empire')\n",
      "('Q: ', 'When did Estonia start hoping for freedom?')\n",
      "('Q? ', u'proverbial proverbial directive zhongshan chambre canada canada riverwalk chambre chambre canada riverwalk sheds sheds sheds woolwich sheds woolwich sequel sequel sequel sequel sequel sequel snooker zhongshan sheds sheds sheds woolwich')\n",
      "('BLEU score: ', 9.624051424261578e-79)\n",
      " \n",
      "('T: ', 'After centuries of Danish, Swedish and German rule the native Estonians started to yearn for independence during the period of national awakening while being governed by  <anss> the Russian Empire <anse> ')\n",
      "('Q: ', 'Who was in control during the national awakening?')\n",
      "('Q? ', u'proverbial directive zhongshan zhongshan canada canada riverwalk chambre canada riverwalk chambre sheds sheds sheds woolwich sheds woolwich sequel sequel sequel sequel sequel sequel snooker zhongshan sheds sheds sheds woolwich sequel')\n",
      "('BLEU score: ', 1.5670387106099446e-78)\n",
      " \n",
      "('T: ', ' Established on 24 February  <anss> 1918 <anse> , the Republic of Estonia came into existence towards the end of World War I')\n",
      "('Q: ', 'What year was the Republic of Estonia established?')\n"
     ]
    },
    {
     "name": "stdout",
     "output_type": "stream",
     "text": [
      "('Q? ', u'proverbial directive zhongshan zhongshan canada canada riverwalk chambre canada riverwalk chambre sheds sheds sheds woolwich sheds woolwich sequel sequel sequel sequel sequel sequel snooker zhongshan sheds sheds sheds woolwich sequel')\n",
      "('BLEU score: ', 0.0266099888495023)\n",
      " \n",
      "('T: ', ' Established on 24 February 1918, the Republic of Estonia came into existence towards the end of  <anss> World War I <anse> ')\n",
      "('Q: ', 'What war ended as Estonia was born?')\n",
      "('Q? ', u'proverbial directive zhongshan zhongshan canada canada riverwalk chambre canada riverwalk chambre sheds sheds sheds woolwich sheds woolwich sequel sequel sequel sequel sequel sequel snooker zhongshan sheds sheds sheds woolwich sequel')\n",
      "('BLEU score: ', 4.485561407540004e-155)\n",
      " \n",
      "('T: ', 'A developed country with an advanced,  <anss> high-income economy and high living standards <anse> , Estonia ranks very high in the Human Development Index, and performs favourably in measurements of economic freedom, civil liberties, education, and press freedom (third in the world in 2012)')\n",
      "('Q: ', 'What features describe Estonia as a developed nation?')\n",
      "('Q? ', u'proverbial proverbial directive zhongshan chambre canada canada riverwalk chambre chambre canada riverwalk sheds sheds sheds woolwich sheds woolwich sequel sequel sequel sequel sequel sequel snooker zhongshan sheds sheds sheds woolwich')\n",
      "('BLEU score: ', 5.308458567848781e-155)\n",
      " \n",
      "('T: ', 'A developed country with an advanced, high-income economy and high living standards, Estonia ranks very high in  <anss> the Human Development Index <anse> , and performs favourably in measurements of economic freedom, civil liberties, education, and press freedom (third in the world in 2012)')\n",
      "('Q: ', 'What standard of living does Estonia rank well in?')\n",
      "('Q? ', u'proverbial proverbial directive zhongshan chambre canada canada riverwalk chambre chambre canada riverwalk sheds sheds sheds woolwich sheds woolwich sequel sequel sequel sequel sequel sequel snooker zhongshan sheds sheds sheds woolwich')\n",
      "('BLEU score: ', 1.1009530233840956e-78)\n",
      " \n",
      "('T: ', 'A developed country with an advanced, high-income economy and high living standards,  <anss> Estonia <anse>  ranks very high in the Human Development Index, and performs favourably in measurements of economic freedom, civil liberties, education, and press freedom (third in the world in 2012)')\n",
      "('Q: ', 'What country performs well in evaluation of economic freedom, civil liberties, and education?')\n",
      "('Q? ', u'proverbial proverbial directive zhongshan chambre canada canada riverwalk chambre chambre canada riverwalk sheds sheds sheds woolwich sheds woolwich sequel sequel sequel sequel sequel sequel snooker zhongshan sheds sheds sheds woolwich')\n",
      "('BLEU score: ', 1.4045482462333232e-78)\n",
      " \n",
      "('T: ', 'A developed country with an advanced, high-income economy and high living standards, Estonia ranks very high in the Human Development Index, and performs favourably in measurements of economic freedom, civil liberties, education, and press freedom (third in the world in  <anss> 2012 <anse> )')\n",
      "('Q: ', 'What year did Estonia rank third in press freedom?')\n",
      "('Q? ', u'proverbial directive zhongshan zhongshan canada canada riverwalk chambre canada riverwalk chambre sheds sheds sheds woolwich sheds woolwich sequel sequel sequel sequel sequel sequel snooker zhongshan sheds sheds sheds woolwich sequel')\n",
      "('BLEU score: ', 1.2920559596013538e-78)\n",
      " \n",
      "('BLEU score average: ', 0.005336833646687)\n"
     ]
    }
   ],
   "source": [
    "evaluatePairs(encoder, decoder, 0, 20)"
   ]
  },
  {
   "cell_type": "code",
   "execution_count": null,
   "metadata": {
    "colab": {
     "base_uri": "https://localhost:8080/",
     "height": 6971
    },
    "colab_type": "code",
    "executionInfo": {
     "elapsed": 4452,
     "status": "ok",
     "timestamp": 1552466425200,
     "user": {
      "displayName": "Junyoung Kim",
      "photoUrl": "",
      "userId": "11931625421765868164"
     },
     "user_tz": -540
    },
    "id": "qrSPAiNcVsWl",
    "outputId": "916258d2-3268-4b20-9c36-70a5260a17c6"
   },
   "outputs": [],
   "source": [
    "import encoder_decoder\n",
    "encoder_decoder.load_models(\"/content/\")"
   ]
  },
  {
   "cell_type": "code",
   "execution_count": null,
   "metadata": {
    "colab": {
     "base_uri": "https://localhost:8080/",
     "height": 35
    },
    "colab_type": "code",
    "executionInfo": {
     "elapsed": 1311,
     "status": "ok",
     "timestamp": 1552466498176,
     "user": {
      "displayName": "Junyoung Kim",
      "photoUrl": "",
      "userId": "11931625421765868164"
     },
     "user_tz": -540
    },
    "id": "ev0RaHpjvHJ7",
    "outputId": "91432381-b03c-4970-aea4-3db12a9551cc"
   },
   "outputs": [],
   "source": [
    "import torch\n",
    "from encoder_decoder import evaluate\n",
    "input_text = \"Throughout her career, Beyoncé<noun> has sold over <anss> 100 million records <anse> worldwide as a solo artist, and a further 60 million records with Destiny's Child\"\n",
    "encoder = EncoderRNN(mapper.n_words, hidden_size).to(device)\n",
    "decoder = AttnDecoderRNN(hidden_size, mapper.n_words).to(device)\n",
    "encoder.load_state_dict(torch.load(\"/content/50k_encoder\"))\n",
    "decoder.load_state_dict(torch.load(\"/content/50k_decoder\"))\n",
    "output, attentions = evaluate(encoder, decoder, input_text, mapper, True)\n",
    "print(' '.join(output))"
   ]
  },
  {
   "cell_type": "code",
   "execution_count": null,
   "metadata": {
    "colab": {},
    "colab_type": "code",
    "id": "dOp1GGCssyzy"
   },
   "outputs": [],
   "source": [
    "!git pull origin master"
   ]
  },
  {
   "cell_type": "code",
   "execution_count": null,
   "metadata": {
    "colab": {
     "base_uri": "https://localhost:8080/",
     "height": 34
    },
    "colab_type": "code",
    "executionInfo": {
     "elapsed": 2634,
     "status": "ok",
     "timestamp": 1552449228896,
     "user": {
      "displayName": "Junyoung Kim",
      "photoUrl": "",
      "userId": "11931625421765868164"
     },
     "user_tz": -540
    },
    "id": "0eCMOInjLziV",
    "outputId": "f4d805b2-8e00-4c1f-a079-a0eb98c86d53"
   },
   "outputs": [],
   "source": [
    "!pwd"
   ]
  },
  {
   "cell_type": "code",
   "execution_count": null,
   "metadata": {
    "colab": {},
    "colab_type": "code",
    "id": "lM1fxZa4LMCU"
   },
   "outputs": [],
   "source": [
    "torch.save(encoder1.state_dict(),\"/content/50k_encoder\")"
   ]
  }
 ],
 "metadata": {
  "accelerator": "GPU",
  "colab": {
   "collapsed_sections": [],
   "name": "model_train.ipynb",
   "provenance": [],
   "version": "0.3.2"
  },
  "kernelspec": {
   "display_name": "Python 2",
   "language": "python",
   "name": "python2"
  },
  "language_info": {
   "codemirror_mode": {
    "name": "ipython",
    "version": 2
   },
   "file_extension": ".py",
   "mimetype": "text/x-python",
   "name": "python",
   "nbconvert_exporter": "python",
   "pygments_lexer": "ipython2",
   "version": "2.7.12"
  }
 },
 "nbformat": 4,
 "nbformat_minor": 1
}
