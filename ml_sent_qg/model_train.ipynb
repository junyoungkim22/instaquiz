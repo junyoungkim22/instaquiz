{
 "cells": [
  {
   "cell_type": "code",
   "execution_count": null,
   "metadata": {},
   "outputs": [],
   "source": [
    "import torch as torch\n",
    "from encoder_decoder import GloveEncoderRNN, GloveAttnDecoderRNN, trainIters, evaluatePairs\n",
    "from encoder_decoder import load_models\n",
    "from global_var import MAPPER\n",
    "%load_ext autoreload"
   ]
  },
  {
   "cell_type": "code",
   "execution_count": null,
   "metadata": {},
   "outputs": [],
   "source": [
    "%autoreload 2"
   ]
  },
  {
   "cell_type": "code",
   "execution_count": null,
   "metadata": {
    "colab": {},
    "colab_type": "code",
    "id": "yIRJDF-96pNy"
   },
   "outputs": [],
   "source": [
    "device = torch.device(\"cuda\" if torch.cuda.is_available() else \"cpu\")\n",
    "#MAX_LENGTH = 100\n",
    "#data = squad_loader.process_file(\"train-v2.0.json\")\n",
    "#pairs = squad_loader.prepare_pairs(data)\n",
    "#pairs = squad_loader.prepare_ans_tagged_pairs(data)\n",
    "#pairs = squad_loader.prepare_ans_sent_pairs(data)\n",
    "#teacher_forcing_ratio = 0.5"
   ]
  },
  {
   "cell_type": "code",
   "execution_count": null,
   "metadata": {
    "colab": {},
    "colab_type": "code",
    "id": "CFqeRMmatHsk"
   },
   "outputs": [],
   "source": [
    "emb_dim = 200\n",
    "encoder = GloveEncoderRNN(emb_dim).to(device)\n",
    "decoder = GloveAttnDecoderRNN(emb_dim).to(device)\n",
    " "
   ]
  },
  {
   "cell_type": "code",
   "execution_count": null,
   "metadata": {
    "colab": {
     "base_uri": "https://localhost:8080/",
     "height": 1037
    },
    "colab_type": "code",
    "executionInfo": {
     "elapsed": 5344767,
     "status": "ok",
     "timestamp": 1552964493785,
     "user": {
      "displayName": "Junyoung Kim",
      "photoUrl": "",
      "userId": "11931625421765868164"
     },
     "user_tz": -540
    },
    "id": "JDRhc8u9vkwf",
    "outputId": "bd49c143-1b99-4498-ecf1-c9b55cd0b46a",
    "scrolled": false
   },
   "outputs": [],
   "source": [
    "trainIters(encoder, decoder, 100, print_every=10000, plot_every=10000, learning_rate=0.0005)"
   ]
  },
  {
   "cell_type": "code",
   "execution_count": null,
   "metadata": {
    "colab": {
     "base_uri": "https://localhost:8080/",
     "height": 6837
    },
    "colab_type": "code",
    "executionInfo": {
     "elapsed": 4973,
     "status": "ok",
     "timestamp": 1552964557420,
     "user": {
      "displayName": "Junyoung Kim",
      "photoUrl": "",
      "userId": "11931625421765868164"
     },
     "user_tz": -540
    },
    "id": "O_-i6MEpv0Ec",
    "outputId": "06711b2f-c08f-4b17-eadc-0e16622803e1",
    "scrolled": true
   },
   "outputs": [],
   "source": [
    "evaluatePairs(encoder, decoder, 10)"
   ]
  },
  {
   "cell_type": "code",
   "execution_count": null,
   "metadata": {
    "colab": {
     "base_uri": "https://localhost:8080/",
     "height": 6971
    },
    "colab_type": "code",
    "executionInfo": {
     "elapsed": 4452,
     "status": "ok",
     "timestamp": 1552466425200,
     "user": {
      "displayName": "Junyoung Kim",
      "photoUrl": "",
      "userId": "11931625421765868164"
     },
     "user_tz": -540
    },
    "id": "qrSPAiNcVsWl",
    "outputId": "916258d2-3268-4b20-9c36-70a5260a17c6"
   },
   "outputs": [],
   "source": [
    "load_models(encoder, decoder)"
   ]
  },
  {
   "cell_type": "code",
   "execution_count": null,
   "metadata": {
    "colab": {
     "base_uri": "https://localhost:8080/",
     "height": 35
    },
    "colab_type": "code",
    "executionInfo": {
     "elapsed": 1311,
     "status": "ok",
     "timestamp": 1552466498176,
     "user": {
      "displayName": "Junyoung Kim",
      "photoUrl": "",
      "userId": "11931625421765868164"
     },
     "user_tz": -540
    },
    "id": "ev0RaHpjvHJ7",
    "outputId": "91432381-b03c-4970-aea4-3db12a9551cc"
   },
   "outputs": [],
   "source": [
    "import torch\n",
    "from encoder_decoder import evaluate\n",
    "input_text = \"Throughout her career, Beyoncé<noun> has sold over <anss> 100 million records <anse> worldwide as a solo artist, and a further 60 million records with Destiny's Child\"\n",
    "encoder = EncoderRNN(mapper.n_words, hidden_size).to(device)\n",
    "decoder = AttnDecoderRNN(hidden_size, mapper.n_words).to(device)\n",
    "encoder.load_state_dict(torch.load(\"/content/50k_encoder\"))\n",
    "decoder.load_state_dict(torch.load(\"/content/50k_decoder\"))\n",
    "output, attentions = evaluate(encoder, decoder, input_text, mapper, True)\n",
    "print(' '.join(output))"
   ]
  }
 ],
 "metadata": {
  "accelerator": "GPU",
  "colab": {
   "collapsed_sections": [],
   "name": "model_train.ipynb",
   "provenance": [],
   "version": "0.3.2"
  },
  "kernelspec": {
   "display_name": "Python 2",
   "language": "python",
   "name": "python2"
  },
  "language_info": {
   "codemirror_mode": {
    "name": "ipython",
    "version": 2
   },
   "file_extension": ".py",
   "mimetype": "text/x-python",
   "name": "python",
   "nbconvert_exporter": "python",
   "pygments_lexer": "ipython2",
   "version": "2.7.12"
  }
 },
 "nbformat": 4,
 "nbformat_minor": 1
}
