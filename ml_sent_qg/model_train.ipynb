{
 "cells": [
  {
   "cell_type": "code",
   "execution_count": 1,
   "metadata": {},
   "outputs": [
    {
     "name": "stdout",
     "output_type": "stream",
     "text": [
      "Processing SquAD dataset...\n",
      "Processing done!\n"
     ]
    }
   ],
   "source": [
    "import torch as torch\n",
    "from encoder_decoder import GloveEncoderRNN, GloveAttnDecoderRNN, trainIters, evaluatePairs\n",
    "from global_var import MAPPER\n",
    "%load_ext autoreload"
   ]
  },
  {
   "cell_type": "code",
   "execution_count": 2,
   "metadata": {},
   "outputs": [],
   "source": [
    "%autoreload"
   ]
  },
  {
   "cell_type": "code",
   "execution_count": 3,
   "metadata": {
    "colab": {},
    "colab_type": "code",
    "id": "yIRJDF-96pNy"
   },
   "outputs": [],
   "source": [
    "device = torch.device(\"cuda\" if torch.cuda.is_available() else \"cpu\")\n",
    "#MAX_LENGTH = 100\n",
    "#data = squad_loader.process_file(\"train-v2.0.json\")\n",
    "#pairs = squad_loader.prepare_pairs(data)\n",
    "#pairs = squad_loader.prepare_ans_tagged_pairs(data)\n",
    "#pairs = squad_loader.prepare_ans_sent_pairs(data)\n",
    "#teacher_forcing_ratio = 0.5"
   ]
  },
  {
   "cell_type": "code",
   "execution_count": 4,
   "metadata": {
    "colab": {},
    "colab_type": "code",
    "id": "CFqeRMmatHsk"
   },
   "outputs": [],
   "source": [
    "emb_dim = 200\n",
    "encoder = GloveEncoderRNN(emb_dim).to(device)\n",
    "decoder = GloveAttnDecoderRNN(emb_dim).to(device)\n",
    " "
   ]
  },
  {
   "cell_type": "code",
   "execution_count": 10,
   "metadata": {
    "colab": {
     "base_uri": "https://localhost:8080/",
     "height": 1037
    },
    "colab_type": "code",
    "executionInfo": {
     "elapsed": 5344767,
     "status": "ok",
     "timestamp": 1552964493785,
     "user": {
      "displayName": "Junyoung Kim",
      "photoUrl": "",
      "userId": "11931625421765868164"
     },
     "user_tz": -540
    },
    "id": "JDRhc8u9vkwf",
    "outputId": "bd49c143-1b99-4498-ecf1-c9b55cd0b46a"
   },
   "outputs": [
    {
     "name": "stdout",
     "output_type": "stream",
     "text": [
      "3m 31s (- 14m 4s) (2000 20%) 4.7735\n",
      "4.77350341171\n",
      "6m 52s (- 10m 19s) (4000 40%) 4.8509\n",
      "4.85090407767\n",
      "10m 22s (- 6m 54s) (6000 60%) 4.6630\n",
      "4.66297808114\n",
      "13m 54s (- 3m 28s) (8000 80%) 4.7838\n",
      "4.78380152654\n",
      "17m 16s (- 0m 0s) (10000 100%) 4.8442\n",
      "4.8442132116\n"
     ]
    }
   ],
   "source": [
    "trainIters(encoder, decoder, 10000, 61000, print_every=2000, plot_every=1000, learning_rate=0.005)"
   ]
  },
  {
   "cell_type": "code",
   "execution_count": 20,
   "metadata": {
    "colab": {
     "base_uri": "https://localhost:8080/",
     "height": 6837
    },
    "colab_type": "code",
    "executionInfo": {
     "elapsed": 4973,
     "status": "ok",
     "timestamp": 1552964557420,
     "user": {
      "displayName": "Junyoung Kim",
      "photoUrl": "",
      "userId": "11931625421765868164"
     },
     "user_tz": -540
    },
    "id": "O_-i6MEpv0Ec",
    "outputId": "06711b2f-c08f-4b17-eadc-0e16622803e1"
   },
   "outputs": [
    {
     "name": "stdout",
     "output_type": "stream",
     "text": [
      "T:  With the arrival of cochineal, they had a third,  <anss> carmine <anse> , which made a very fine crimson, though it had a tendency to change color if not used carefully\n",
      "Q: What did Renaissance painters call the pigment made from cochineal?\n",
      "Q? what is the the the ? ? ? ? ? ? ?\n",
      "BLEU score: 0.103365\n",
      " \n",
      "T:  It was used by almost all the great painters of the  <anss> 15th <anse>  and 16th centuries, including Rembrandt, Vermeer, Rubens, Anthony van Dyck, Diego Velázquez and Tintoretto\n",
      "Q: During what century did carmine start to see use?\n",
      "Q? what is the the the the ? ? ? ? ?\n",
      "BLEU score: 0.122355\n",
      " \n",
      "T:  With the arrival of cochineal, they had a third, carmine, which made a very fine crimson, though it had a tendency to  <anss> change color <anse>  if not used carefully\n",
      "Q: What would to the carmine pigment if not used diligently?\n",
      "Q? what is the the the ? ? ? ? ? ? ?\n",
      "BLEU score: 0.141120\n",
      " \n",
      "T: During the  <anss> French Revolution <anse> , Red became a symbol of liberty and personal freedom used by the Jacobins and other more radical parties\n",
      "Q: During which revolution was red a symbol of liberty?\n",
      "Q? what is the the the the ? ? ? ? ?\n",
      "BLEU score: 0.000000\n",
      " \n",
      "T:  Many of them wore a  <anss> red Phrygian cap, or liberty cap <anse> , modeled after the caps worn by freed slaves in Ancient Rome\n",
      "Q: What kind of cap did the Jacobins wear?\n",
      "Q? what is the the the ? ? ? ? ? ? ?\n",
      "BLEU score: 0.211145\n",
      " \n",
      "T:  During the height of the Reign of Terror, Women wearing red caps gathered around the guillotine to  <anss> celebrate <anse>  each execution\n",
      "Q: Women with red caps crowded around guillotines during the Reign of Terror to do what?\n",
      "Q? what is the the the the ? ? ? ? ?\n",
      "BLEU score: 0.061072\n",
      " \n",
      "T:  The guillotines used during the Reign of Terror in  <anss> 1792 and 1793 <anse>  were painted red, or made of red wood\n",
      "Q: During what years did the Reign of Terror take place?\n",
      "Q? what is the the the the ? ? ? ? ?\n",
      "BLEU score: 0.167263\n",
      " \n",
      "T:  After the end of the Reign of Terror, France went back to the blue, white and red tricolor, whose red was taken from the traditional color of Saint Denis, the  <anss> Christian martyr and patron saint of Paris <anse> \n",
      "Q: Who was Saint Denis?\n",
      "Q? what is the the the the ? ? ? ?\n",
      "BLEU score: 0.000000\n",
      " \n",
      "T:  One popular color imported into Europe from Turkey and India in the 18th and early 19th century was Turkey red, known in France as  <anss> rouge d'Adrinople <anse> \n",
      "Q: What was Turkey red called in France?\n",
      "Q? what is the the the the ? ? ? ? ?\n",
      "BLEU score: 0.175554\n",
      " \n",
      "T:  Beginning in  <anss> the 1740s <anse> , this bright red color was used to dye or print cotton textiles in England, the Netherlands and France\n",
      "Q: In what years did Turkey red begin to be used to dye cotton in England?\n",
      "Q? what is the the the ? ? ? ? ? ? ?\n",
      "BLEU score: 0.062819\n",
      " \n",
      "T:  Turkey red used  <anss> madder <anse>  as the colorant, but the process was longer and more complicated, involving multiple soaking of the fabrics in lye, olive oil, sheep's dung, and other ingredients\n",
      "Q: What did turkey red get its color from?\n",
      "Q? what is the the the ? ? ? ? ? ? ?\n",
      "BLEU score: 0.155575\n",
      " \n",
      "T:  The fabric was more expensive but resulted in a fine bright and lasting red, similar to  <anss> carmine <anse> , perfectly suited to cotton\n",
      "Q: What other pigment was Turkey red compared to?\n",
      "Q? what is the the the ? ? ? ? ? ? ?\n",
      "BLEU score: 0.142339\n",
      " \n",
      "T:  In  <anss> 19th <anse>  century America, it was widely used in making the traditional patchwork quilt\n",
      "Q: In what century did quilts in America commonly use Turkey red?\n",
      "Q? what is the the the the ? ? ? ? ?\n",
      "BLEU score: 0.082516\n",
      " \n",
      "T: The  <anss> 19th <anse>  century also saw the use of red in art to create specific emotions, not just to imitate nature\n",
      "Q: In which century did color theory begin to be systematically studied?\n",
      "Q? what is the the the ? ? ? ? ? ? ?\n",
      "BLEU score: 0.046752\n",
      " \n",
      "T:  These studies were avidly followed by artists such as  <anss> Vincent van Gogh <anse> \n",
      "Q: Who painted the Night Cafe?\n",
      "Q? what is the the the ? ? ? ? ? ? ?\n",
      "BLEU score: 0.185066\n",
      " \n",
      "T:  Describing his painting, The Night Cafe, to his brother Theo in  <anss> 1888 <anse> , Van Gogh wrote: \"I sought to express with red and green the terrible human passions\n",
      "Q: In what year was The Night Cafe painted?\n",
      "Q? what is the the the the ? ? ? ?\n",
      "BLEU score: 0.240887\n",
      " \n",
      "T:  Describing his painting, The Night Cafe, to his brother  <anss> Theo <anse>  in 1888, Van Gogh wrote: \"I sought to express with red and green the terrible human passions\n",
      "Q: What was the name of vincent van Gogh's brother?\n",
      "Q? what is the the the the ? ? ? ?\n",
      "BLEU score: 0.204674\n",
      " \n",
      "T:  It saw the systematic study of color theory, and particularly the study of how complementary colors such as  <anss> red and green reinforced each other <anse>  when they were placed next to each other\n",
      "Q: What occurred when red and green were put next to one another?\n",
      "Q? what is the the the ? ? ? ? ? ? ?\n",
      "BLEU score: 0.086761\n",
      " \n",
      "T: Matisse was also one of the first  <anss> 20th <anse> -century artists to make color the central element of the painting, chosen to evoke emotions\n",
      "Q: During which century did Matisse work?\n",
      "Q? what is the the the the ? ? ? ? ?\n",
      "BLEU score: 0.000000\n",
      " \n",
      "T: \" He also was familiar with the way that complementary colors, such as red and green,  <anss> strengthened <anse>  each other when they were placed next to each other\n",
      "Q: Placing red and green next to each other causes their color to be what?\n",
      "Q? what is the the the ? ? ? ? ? ? ?\n",
      "BLEU score: 0.098825\n",
      " \n",
      "BLEU score average: 0.114404\n"
     ]
    }
   ],
   "source": [
    "evaluatePairs(encoder, decoder, 20000, 20)"
   ]
  },
  {
   "cell_type": "code",
   "execution_count": null,
   "metadata": {
    "colab": {
     "base_uri": "https://localhost:8080/",
     "height": 6971
    },
    "colab_type": "code",
    "executionInfo": {
     "elapsed": 4452,
     "status": "ok",
     "timestamp": 1552466425200,
     "user": {
      "displayName": "Junyoung Kim",
      "photoUrl": "",
      "userId": "11931625421765868164"
     },
     "user_tz": -540
    },
    "id": "qrSPAiNcVsWl",
    "outputId": "916258d2-3268-4b20-9c36-70a5260a17c6"
   },
   "outputs": [],
   "source": [
    "import encoder_decoder\n",
    "encoder_decoder.load_models(\"/content/\")"
   ]
  },
  {
   "cell_type": "code",
   "execution_count": null,
   "metadata": {
    "colab": {
     "base_uri": "https://localhost:8080/",
     "height": 35
    },
    "colab_type": "code",
    "executionInfo": {
     "elapsed": 1311,
     "status": "ok",
     "timestamp": 1552466498176,
     "user": {
      "displayName": "Junyoung Kim",
      "photoUrl": "",
      "userId": "11931625421765868164"
     },
     "user_tz": -540
    },
    "id": "ev0RaHpjvHJ7",
    "outputId": "91432381-b03c-4970-aea4-3db12a9551cc"
   },
   "outputs": [],
   "source": [
    "import torch\n",
    "from encoder_decoder import evaluate\n",
    "input_text = \"Throughout her career, Beyoncé<noun> has sold over <anss> 100 million records <anse> worldwide as a solo artist, and a further 60 million records with Destiny's Child\"\n",
    "encoder = EncoderRNN(mapper.n_words, hidden_size).to(device)\n",
    "decoder = AttnDecoderRNN(hidden_size, mapper.n_words).to(device)\n",
    "encoder.load_state_dict(torch.load(\"/content/50k_encoder\"))\n",
    "decoder.load_state_dict(torch.load(\"/content/50k_decoder\"))\n",
    "output, attentions = evaluate(encoder, decoder, input_text, mapper, True)\n",
    "print(' '.join(output))"
   ]
  },
  {
   "cell_type": "code",
   "execution_count": null,
   "metadata": {
    "colab": {},
    "colab_type": "code",
    "id": "lM1fxZa4LMCU"
   },
   "outputs": [],
   "source": [
    "torch.save(encoder1.state_dict(),\"/content/50k_encoder\")"
   ]
  }
 ],
 "metadata": {
  "accelerator": "GPU",
  "colab": {
   "collapsed_sections": [],
   "name": "model_train.ipynb",
   "provenance": [],
   "version": "0.3.2"
  },
  "kernelspec": {
   "display_name": "Python 2",
   "language": "python",
   "name": "python2"
  },
  "language_info": {
   "codemirror_mode": {
    "name": "ipython",
    "version": 2
   },
   "file_extension": ".py",
   "mimetype": "text/x-python",
   "name": "python",
   "nbconvert_exporter": "python",
   "pygments_lexer": "ipython2",
   "version": "2.7.12"
  }
 },
 "nbformat": 4,
 "nbformat_minor": 1
}
