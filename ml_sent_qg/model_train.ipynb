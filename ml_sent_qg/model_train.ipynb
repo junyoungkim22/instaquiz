{
 "cells": [
  {
   "cell_type": "code",
   "execution_count": 1,
   "metadata": {},
   "outputs": [
    {
     "name": "stdout",
     "output_type": "stream",
     "text": [
      "Processing SquAD dataset...\n",
      "Processing done!\n"
     ]
    }
   ],
   "source": [
    "import torch as torch\n",
    "from encoder_decoder import GloveEncoderRNN, GloveAttnDecoderRNN, trainIters, evaluatePairs\n",
    "from global_var import MAPPER"
   ]
  },
  {
   "cell_type": "code",
   "execution_count": 2,
   "metadata": {
    "colab": {},
    "colab_type": "code",
    "id": "yIRJDF-96pNy"
   },
   "outputs": [],
   "source": [
    "device = torch.device(\"cuda\" if torch.cuda.is_available() else \"cpu\")\n",
    "#MAX_LENGTH = 100\n",
    "#data = squad_loader.process_file(\"train-v2.0.json\")\n",
    "#pairs = squad_loader.prepare_pairs(data)\n",
    "#pairs = squad_loader.prepare_ans_tagged_pairs(data)\n",
    "#pairs = squad_loader.prepare_ans_sent_pairs(data)\n",
    "#teacher_forcing_ratio = 0.5"
   ]
  },
  {
   "cell_type": "code",
   "execution_count": 11,
   "metadata": {
    "colab": {},
    "colab_type": "code",
    "id": "CFqeRMmatHsk"
   },
   "outputs": [],
   "source": [
    "hidden_size = 200\n",
    "encoder = GloveEncoderRNN(hidden_size).to(device)\n",
    "decoder = GloveAttnDecoderRNN(hidden_size).to(device)\n",
    " "
   ]
  },
  {
   "cell_type": "code",
   "execution_count": 10,
   "metadata": {
    "colab": {
     "base_uri": "https://localhost:8080/",
     "height": 1037
    },
    "colab_type": "code",
    "executionInfo": {
     "elapsed": 5344767,
     "status": "ok",
     "timestamp": 1552964493785,
     "user": {
      "displayName": "Junyoung Kim",
      "photoUrl": "",
      "userId": "11931625421765868164"
     },
     "user_tz": -540
    },
    "id": "JDRhc8u9vkwf",
    "outputId": "bd49c143-1b99-4498-ecf1-c9b55cd0b46a"
   },
   "outputs": [
    {
     "ename": "KeyboardInterrupt",
     "evalue": "",
     "output_type": "error",
     "traceback": [
      "\u001b[0;31m---------------------------------------------------------------------------\u001b[0m",
      "\u001b[0;31mKeyboardInterrupt\u001b[0m                         Traceback (most recent call last)",
      "\u001b[0;32m<ipython-input-10-a05823000b19>\u001b[0m in \u001b[0;36m<module>\u001b[0;34m()\u001b[0m\n\u001b[0;32m----> 1\u001b[0;31m \u001b[0mtrainIters\u001b[0m\u001b[0;34m(\u001b[0m\u001b[0mencoder\u001b[0m\u001b[0;34m,\u001b[0m \u001b[0mdecoder\u001b[0m\u001b[0;34m,\u001b[0m \u001b[0;36m10000\u001b[0m\u001b[0;34m,\u001b[0m \u001b[0;36m0\u001b[0m\u001b[0;34m,\u001b[0m \u001b[0mprint_every\u001b[0m\u001b[0;34m=\u001b[0m\u001b[0;36m1000\u001b[0m\u001b[0;34m,\u001b[0m \u001b[0mplot_every\u001b[0m\u001b[0;34m=\u001b[0m\u001b[0;36m1000\u001b[0m\u001b[0;34m,\u001b[0m \u001b[0mlearning_rate\u001b[0m\u001b[0;34m=\u001b[0m\u001b[0;36m0.001\u001b[0m\u001b[0;34m)\u001b[0m\u001b[0;34m\u001b[0m\u001b[0m\n\u001b[0m",
      "\u001b[0;32m/home/junyoung2/instaquiz/ml_sent_qg/encoder_decoder.pyc\u001b[0m in \u001b[0;36mtrainIters\u001b[0;34m(encoder, decoder, n_iters, start_index, print_every, plot_every, learning_rate)\u001b[0m\n\u001b[1;32m    194\u001b[0m         \u001b[0mtarget_tensor\u001b[0m \u001b[0;34m=\u001b[0m \u001b[0mtraining_pair\u001b[0m\u001b[0;34m[\u001b[0m\u001b[0;36m1\u001b[0m\u001b[0;34m]\u001b[0m\u001b[0;34m\u001b[0m\u001b[0m\n\u001b[1;32m    195\u001b[0m \u001b[0;34m\u001b[0m\u001b[0m\n\u001b[0;32m--> 196\u001b[0;31m         \u001b[0mloss\u001b[0m \u001b[0;34m=\u001b[0m \u001b[0mtrain\u001b[0m\u001b[0;34m(\u001b[0m\u001b[0minput_tensor\u001b[0m\u001b[0;34m,\u001b[0m \u001b[0mtarget_tensor\u001b[0m\u001b[0;34m,\u001b[0m \u001b[0mencoder\u001b[0m\u001b[0;34m,\u001b[0m \u001b[0mdecoder\u001b[0m\u001b[0;34m,\u001b[0m \u001b[0mencoder_optimizer\u001b[0m\u001b[0;34m,\u001b[0m \u001b[0mdecoder_optimizer\u001b[0m\u001b[0;34m,\u001b[0m \u001b[0mcriterion\u001b[0m\u001b[0;34m)\u001b[0m\u001b[0;34m\u001b[0m\u001b[0m\n\u001b[0m\u001b[1;32m    197\u001b[0m         \u001b[0mprint_loss_total\u001b[0m \u001b[0;34m+=\u001b[0m \u001b[0mloss\u001b[0m\u001b[0;34m\u001b[0m\u001b[0m\n\u001b[1;32m    198\u001b[0m         \u001b[0mplot_loss_total\u001b[0m \u001b[0;34m+=\u001b[0m \u001b[0mloss\u001b[0m\u001b[0;34m\u001b[0m\u001b[0m\n",
      "\u001b[0;32m/home/junyoung2/instaquiz/ml_sent_qg/encoder_decoder.pyc\u001b[0m in \u001b[0;36mtrain\u001b[0;34m(input_tensor, target_tensor, encoder, decoder, encoder_optimizer, decoder_optimizer, criterion, max_length)\u001b[0m\n\u001b[1;32m    160\u001b[0m     \u001b[0mdecoder_optimizer\u001b[0m\u001b[0;34m.\u001b[0m\u001b[0mstep\u001b[0m\u001b[0;34m(\u001b[0m\u001b[0;34m)\u001b[0m\u001b[0;34m\u001b[0m\u001b[0m\n\u001b[1;32m    161\u001b[0m \u001b[0;34m\u001b[0m\u001b[0m\n\u001b[0;32m--> 162\u001b[0;31m     \u001b[0;32mreturn\u001b[0m \u001b[0mloss\u001b[0m\u001b[0;34m.\u001b[0m\u001b[0mitem\u001b[0m\u001b[0;34m(\u001b[0m\u001b[0;34m)\u001b[0m \u001b[0;34m/\u001b[0m \u001b[0mtarget_length\u001b[0m\u001b[0;34m\u001b[0m\u001b[0m\n\u001b[0m\u001b[1;32m    163\u001b[0m \u001b[0;34m\u001b[0m\u001b[0m\n\u001b[1;32m    164\u001b[0m \u001b[0;32mdef\u001b[0m \u001b[0masMinutes\u001b[0m\u001b[0;34m(\u001b[0m\u001b[0ms\u001b[0m\u001b[0;34m)\u001b[0m\u001b[0;34m:\u001b[0m\u001b[0;34m\u001b[0m\u001b[0m\n",
      "\u001b[0;31mKeyboardInterrupt\u001b[0m: "
     ]
    }
   ],
   "source": [
    "trainIters(encoder, decoder, 10000, 0, print_every=1000, plot_every=1000, learning_rate=0.001)"
   ]
  },
  {
   "cell_type": "code",
   "execution_count": 12,
   "metadata": {
    "colab": {
     "base_uri": "https://localhost:8080/",
     "height": 6837
    },
    "colab_type": "code",
    "executionInfo": {
     "elapsed": 4973,
     "status": "ok",
     "timestamp": 1552964557420,
     "user": {
      "displayName": "Junyoung Kim",
      "photoUrl": "",
      "userId": "11931625421765868164"
     },
     "user_tz": -540
    },
    "id": "O_-i6MEpv0Ec",
    "outputId": "06711b2f-c08f-4b17-eadc-0e16622803e1"
   },
   "outputs": [
    {
     "name": "stdout",
     "output_type": "stream",
     "text": [
      "('T: ', u'Since re-establishing independence, Estonia has styled itself as  <anss> the gateway between East and West <anse>  and aggressively pursued economic reform and integration with the West')\n",
      "('Q: ', 'What Estonia view itself as after winning independence?')\n",
      "('Q? ', u'caesars caesars caesars feathers caesars delft delft outdoorsman outdoorsman outdoorsman kadewe delft delft outdoorsman outdoorsman outdoorsman kadewe delft delft outdoorsman outdoorsman outdoorsman kadewe delft delft outdoorsman outdoorsman outdoorsman kadewe delft')\n",
      "('BLEU score: ', 9.01338699029598e-79)\n",
      " \n",
      "('T: ', u'[citation needed] In  <anss> 1994 <anse> , based on the economic theories of Milton Friedman, Estonia became one of the first countries to adopt a flat tax, with a uniform rate of 26% regardless of personal income')\n",
      "('Q: ', 'What year did Estonia establish a flat tax?')\n",
      "('Q? ', u'reintroduction purposeless hern walvis walvis walvis changed laura walvis walvis changed laura walvis walvis changed laura walvis walvis changed laura walvis walvis changed laura walvis walvis changed laura walvis walvis')\n",
      "('BLEU score: ', 4.147664683300426e-155)\n",
      " \n",
      "('T: ', u'[citation needed] In 1994, based on the economic theories of  <anss> Milton Friedman <anse> , Estonia became one of the first countries to adopt a flat tax, with a uniform rate of 26% regardless of personal income')\n",
      "('Q: ', 'Who was the source of influence for the flat tax?')\n",
      "('Q? ', u'reintroduction purposeless hern walvis walvis walvis changed laura walvis walvis changed laura walvis walvis changed laura walvis walvis changed laura walvis walvis changed laura walvis walvis changed laura walvis walvis')\n",
      "('BLEU score: ', 8.830306124171454e-79)\n",
      " \n",
      "('T: ', u'[citation needed] In 1994, based on the economic theories of Milton Friedman, Estonia became one of the first countries to adopt a flat tax, with  <anss> a uniform rate of 26% <anse>  regardless of personal income')\n",
      "('Q: ', 'What was tax rate imposed on the personal income?')\n",
      "('Q? ', u'mcgowan cfa erzberg templo kidz eero templo outdoorsman outdoorsman mona laura beverages beverages templo kidz beverages beverages templo kidz beverages beverages templo kidz beverages beverages templo kidz beverages beverages templo')\n",
      "('BLEU score: ', 1.2016240219680054e-78)\n",
      " \n",
      "('T: ', 'In  <anss> 1999 <anse> , Estonia experienced its worst year economically since it regained independence in 1991, largely because of the impact of the 1998 Russian financial crisis')\n",
      "('Q: ', 'What was the worst economic year for Estonia after winning independence?')\n",
      "('Q? ', u'inverter caesars delft delft outdoorsman outdoorsman kadewe delft delft outdoorsman outdoorsman outdoorsman kadewe delft delft outdoorsman outdoorsman outdoorsman kadewe delft delft outdoorsman outdoorsman outdoorsman kadewe delft delft outdoorsman outdoorsman outdoorsman')\n",
      "('BLEU score: ', 0.027609684442157435)\n",
      " \n",
      "('T: ', 'In 1999, Estonia experienced its worst year economically since it regained independence in  <anss> 1991 <anse> , largely because of the impact of the 1998 Russian financial crisis')\n",
      "('Q: ', 'What year did Estonia reclaim their independence?')\n",
      "('Q? ', u'inverter caesars delft delft outdoorsman outdoorsman kadewe delft delft outdoorsman outdoorsman outdoorsman kadewe delft delft outdoorsman outdoorsman outdoorsman kadewe delft delft outdoorsman outdoorsman outdoorsman kadewe delft delft outdoorsman outdoorsman outdoorsman')\n",
      "('BLEU score: ', 3.943331537900481e-155)\n",
      " \n",
      "('T: ', 'In 1999, Estonia experienced its worst year economically since it regained independence in 1991, largely because of the impact of  <anss> the 1998 Russian financial crisis <anse> ')\n",
      "('Q: ', 'What event played a major part in the decline of the economy during 1999?')\n",
      "('Q? ', u'caesars caesars feathers caesars delft delft outdoorsman outdoorsman outdoorsman kadewe delft delft outdoorsman outdoorsman outdoorsman kadewe delft delft outdoorsman outdoorsman outdoorsman kadewe delft delft outdoorsman outdoorsman outdoorsman kadewe delft delft')\n",
      "('BLEU score: ', 0.027849293506589337)\n",
      " \n",
      "('T: ', '[citation needed] Estonia joined the WTO in  <anss> November 1999 <anse> ')\n",
      "('Q: ', 'When did Estonia unite with the WTO?')\n",
      "('Q? ', u'caesars caesars feathers caesars caesars feathers caesars annulment caesars feathers caesars caesars feathers caesars annulment gustavus softsword pender kalinga gustavus softsword pender grosse difficulty bahmani kidz eero bahmani outdoorsman outdoorsman')\n",
      "('BLEU score: ', 1.14368161451239e-78)\n",
      " \n",
      "('T: ', 'Estonia is a dependent country in the terms of  <anss> energy <anse>  and energy production')\n",
      "('Q: ', 'What lacking resource does Estonia depend on other countries for?')\n",
      "('Q? ', u'secrecy glaze varnish varnish varnish varnish varnish varnish varnish varnish varnish varnish varnish varnish varnish varnish varnish varnish varnish varnish varnish varnish varnish varnish varnish varnish varnish varnish varnish varnish')\n",
      "('BLEU score: ', 3.4279799890456534e-155)\n",
      " \n",
      "('T: ', ' In recent years many local and foreign companies have been investing in  <anss> renewable energy sources <anse> ')\n",
      "('Q: ', 'What type of energy production as many companies been investing in recent years?')\n",
      "('Q? ', u'caesars caesars feathers caesars delft delft outdoorsman outdoorsman outdoorsman kadewe delft delft outdoorsman outdoorsman outdoorsman kadewe delft delft outdoorsman outdoorsman outdoorsman kadewe delft delft outdoorsman outdoorsman outdoorsman kadewe delft delft')\n",
      "('BLEU score: ', 0.03035671423275778)\n",
      " \n",
      "('T: ', '[citation needed] The importance of  <anss> wind power <anse>  has been increasing steadily in Estonia and currently the total amount of energy production from wind is nearly 60 MW while at the same time roughly 399 MW worth of projects are currently being developed and more than 2800 MW worth of projects are being proposed in the Lake Peipus area and the coastal areas of Hiiumaa')\n",
      "('Q: ', 'What energy source has been increasing in Estonia?')\n",
      "('Q? ', u'hydrology glaze varnish varnish varnish varnish varnish varnish varnish varnish varnish varnish varnish varnish varnish varnish varnish varnish varnish varnish varnish varnish varnish varnish varnish varnish varnish varnish varnish varnish')\n",
      "('BLEU score: ', 7.03024945974048e-79)\n",
      " \n",
      "('T: ', '[citation needed] The importance of wind power has been increasing steadily in Estonia and currently the total amount of energy production from wind is  <anss> nearly 60 MW <anse>  while at the same time roughly 399 MW worth of projects are currently being developed and more than 2800 MW worth of projects are being proposed in the Lake Peipus area and the coastal areas of Hiiumaa')\n",
      "('Q: ', 'What is total amount of energy production from wind power?')\n",
      "('Q? ', u'platinized cfa cfa erzberg templo thalassa softsword delft delft outdoorsman outdoorsman outdoorsman kadewe delft delft outdoorsman outdoorsman outdoorsman diwan repurchase softsword delft delft outdoorsman outdoorsman outdoorsman kadewe delft delft outdoorsman')\n",
      "('BLEU score: ', 1.2695565255810813e-78)\n",
      " \n",
      "('T: ', 'Estonia has had a market economy since the end of the 1990s and one of the highest per capita income levels in  <anss> Eastern <anse>  Europe')\n",
      "('Q: ', 'In what region does Estonia hold one of the highest per capita income levels?')\n",
      "('Q? ', u'caesars caesars caesars feathers caesars delft delft outdoorsman outdoorsman outdoorsman kadewe delft delft outdoorsman outdoorsman outdoorsman kadewe delft delft outdoorsman outdoorsman kadewe delft delft outdoorsman outdoorsman outdoorsman kadewe delft delft')\n",
      "('BLEU score: ', 1.382452708289742e-78)\n",
      " \n",
      "('T: ', ' Proximity to the  <anss> Scandinavian markets <anse> , its location between the East and West, competitive cost structure and a highly skilled labour force have been the major Estonian comparative advantages in the beginning of the 2000s (decade)')\n",
      "('Q: ', 'Being close to what commercial area gives Estonia a competitive advantage?')\n",
      "('Q? ', u'vitalism clorox grosse difficulty reggane movement kidz nonprofits kicked kadewe delft outdoorsman outdoorsman outdoorsman kadewe delft outdoorsman outdoorsman mona laura strabo dharmaguptaka dharmaguptaka delft outdoorsman outdoorsman outdoorsman kadewe delft outdoorsman')\n",
      "('BLEU score: ', 0.032888902207838404)\n",
      " \n",
      "('T: ', ' Proximity to the Scandinavian markets, its location between the East and West, competitive cost structure and a  <anss> highly skilled <anse>  labour force have been the major Estonian comparative advantages in the beginning of the 2000s (decade)')\n",
      "('Q: ', 'What is a major trait of the Estonian employed workers?')\n"
     ]
    },
    {
     "name": "stdout",
     "output_type": "stream",
     "text": [
      "('Q? ', u'vitalism clorox grosse difficulty bahmani outdoorsman outdoorsman kadewe delft outdoorsman outdoorsman kadewe delft outdoorsman outdoorsman outdoorsman kadewe delft outdoorsman outdoorsman kadewe delft outdoorsman outdoorsman outdoorsman kadewe delft outdoorsman outdoorsman kadewe')\n",
      "('BLEU score: ', 1.1021972242347022e-78)\n",
      " \n",
      "('T: ', ' As the largest city,  <anss> Tallinn <anse>  has emerged as a financial centre and the Tallinn Stock Exchange joined recently with the OMX system')\n",
      "('Q: ', 'What is the largest city in Estonia?')\n",
      "('Q? ', u'caesars caesars caesars feathers delft outdoorsman outdoorsman kadewe delft delft outdoorsman outdoorsman outdoorsman kadewe delft delft outdoorsman outdoorsman outdoorsman kadewe delft delft outdoorsman outdoorsman outdoorsman kadewe delft delft outdoorsman outdoorsman')\n",
      "('BLEU score: ', 7.941786529218577e-79)\n",
      " \n",
      "('T: ', \"In  <anss> 2007 <anse> , however, a large current account deficit and rising inflation put pressure on Estonia's currency, which was pegged to the Euro, highlighting the need for growth in export-generating industries\")\n",
      "('Q: ', \"When did a huge deficit and rising inflation place pressure on Estonia's currency?\")\n",
      "('Q? ', u'duque implosive implosive barbosa beverages beverages templo rembrandt rembrandt nab beverages laura beverages beverages beverages beverages beverages templo rembrandt kidz beverages beverages beverages beverages templo rembrandt kidz beverages beverages beverages')\n",
      "('BLEU score: ', 1.1587646478370242e-78)\n",
      " \n",
      "('T: ', \"In 2007, however, a large current account deficit and rising inflation put pressure on Estonia's currency, which was pegged to the Euro, highlighting the need for growth in  <anss> export-generating industries <anse> \")\n",
      "('Q: ', 'What area of commerce did Estonia need to expand?')\n",
      "('Q? ', u'clorox clorox clorox grosse difficulty softsword delft outdoorsman outdoorsman outdoorsman kadewe delft delft outdoorsman outdoorsman diwan repurchase softsword delft delft outdoorsman outdoorsman outdoorsman diwan repurchase softsword delft delft outdoorsman outdoorsman')\n",
      "('BLEU score: ', 0.0225830967733472)\n",
      " \n",
      "('T: ', ' Estonia imports  <anss> 200 million kilowatt hours <anse>  of electricity annually')\n",
      "('Q: ', 'How much electricity is imported by Estonia annually?')\n",
      "('Q? ', u'platinized caesars caesars feathers caesars caesars feathers caesars annulment gustavus softsword pender kalinga gustavus softsword pender grosse difficulty walvis walvis walvis walvis medley laura nab difficulty walvis walvis walvis walvis')\n",
      "('BLEU score: ', 0.04507497465156773)\n",
      " \n",
      "('T: ', ' Estonia also exports  <anss> 1 562 billion kilowatt hours <anse>  of electricity annually')\n",
      "('Q: ', 'How much electricity is exported by Estonia annually?')\n",
      "('Q? ', u'platinized caesars caesars feathers caesars caesars feathers caesars annulment gustavus softsword pender kalinga gustavus softsword pender grosse difficulty bahmani kidz eero bahmani outdoorsman outdoorsman kadewe delft walvis walvis walvis medley')\n",
      "('BLEU score: ', 0.043877970616377056)\n",
      " \n",
      "('BLEU score average: ', 0.011512031821531746)\n"
     ]
    }
   ],
   "source": [
    "evaluatePairs(encoder, decoder, 200, 20)"
   ]
  },
  {
   "cell_type": "code",
   "execution_count": 8,
   "metadata": {
    "colab": {
     "base_uri": "https://localhost:8080/",
     "height": 6971
    },
    "colab_type": "code",
    "executionInfo": {
     "elapsed": 4452,
     "status": "ok",
     "timestamp": 1552466425200,
     "user": {
      "displayName": "Junyoung Kim",
      "photoUrl": "",
      "userId": "11931625421765868164"
     },
     "user_tz": -540
    },
    "id": "qrSPAiNcVsWl",
    "outputId": "916258d2-3268-4b20-9c36-70a5260a17c6"
   },
   "outputs": [
    {
     "ename": "NameError",
     "evalue": "global name 'EncoderRNN' is not defined",
     "output_type": "error",
     "traceback": [
      "\u001b[0;31m---------------------------------------------------------------------------\u001b[0m",
      "\u001b[0;31mNameError\u001b[0m                                 Traceback (most recent call last)",
      "\u001b[0;32m<ipython-input-8-172db666616f>\u001b[0m in \u001b[0;36m<module>\u001b[0;34m()\u001b[0m\n\u001b[1;32m      1\u001b[0m \u001b[0;32mimport\u001b[0m \u001b[0mencoder_decoder\u001b[0m\u001b[0;34m\u001b[0m\u001b[0m\n\u001b[0;32m----> 2\u001b[0;31m \u001b[0mencoder_decoder\u001b[0m\u001b[0;34m.\u001b[0m\u001b[0mload_models\u001b[0m\u001b[0;34m(\u001b[0m\u001b[0;34m\"/content/\"\u001b[0m\u001b[0;34m)\u001b[0m\u001b[0;34m\u001b[0m\u001b[0m\n\u001b[0m",
      "\u001b[0;32m/home/junyoung2/instaquiz/ml_sent_qg/encoder_decoder.pyc\u001b[0m in \u001b[0;36mload_models\u001b[0;34m(PATH)\u001b[0m\n\u001b[1;32m    228\u001b[0m     \u001b[0mhidden_size\u001b[0m \u001b[0;34m=\u001b[0m \u001b[0;36m256\u001b[0m\u001b[0;34m\u001b[0m\u001b[0m\n\u001b[1;32m    229\u001b[0m     \u001b[0mmapper\u001b[0m \u001b[0;34m=\u001b[0m \u001b[0mWordIndexMapper\u001b[0m\u001b[0;34m(\u001b[0m\u001b[0;34m\"word_to_index.pkl\"\u001b[0m\u001b[0;34m,\u001b[0m \u001b[0;34m\"index_to_word.pkl\"\u001b[0m\u001b[0;34m,\u001b[0m \u001b[0;34m\"word_to_count.pkl\"\u001b[0m\u001b[0;34m)\u001b[0m\u001b[0;34m\u001b[0m\u001b[0m\n\u001b[0;32m--> 230\u001b[0;31m     \u001b[0mencoder\u001b[0m \u001b[0;34m=\u001b[0m \u001b[0mEncoderRNN\u001b[0m\u001b[0;34m(\u001b[0m\u001b[0mmapper\u001b[0m\u001b[0;34m.\u001b[0m\u001b[0mn_words\u001b[0m\u001b[0;34m,\u001b[0m \u001b[0mhidden_size\u001b[0m\u001b[0;34m)\u001b[0m\u001b[0;34m.\u001b[0m\u001b[0mto\u001b[0m\u001b[0;34m(\u001b[0m\u001b[0mDEVICE\u001b[0m\u001b[0;34m)\u001b[0m\u001b[0;34m\u001b[0m\u001b[0m\n\u001b[0m\u001b[1;32m    231\u001b[0m     \u001b[0mattn_decoder\u001b[0m \u001b[0;34m=\u001b[0m \u001b[0mAttnDecoderRNN\u001b[0m\u001b[0;34m(\u001b[0m\u001b[0mhidden_size\u001b[0m\u001b[0;34m,\u001b[0m \u001b[0mmapper\u001b[0m\u001b[0;34m.\u001b[0m\u001b[0mn_words\u001b[0m\u001b[0;34m)\u001b[0m\u001b[0;34m.\u001b[0m\u001b[0mto\u001b[0m\u001b[0;34m(\u001b[0m\u001b[0mdevice\u001b[0m\u001b[0;34m)\u001b[0m\u001b[0;34m\u001b[0m\u001b[0m\n\u001b[1;32m    232\u001b[0m     \u001b[0mencoder\u001b[0m\u001b[0;34m.\u001b[0m\u001b[0mload_state_dict\u001b[0m\u001b[0;34m(\u001b[0m\u001b[0mtorch\u001b[0m\u001b[0;34m.\u001b[0m\u001b[0mload\u001b[0m\u001b[0;34m(\u001b[0m\u001b[0mPATH\u001b[0m \u001b[0;34m+\u001b[0m \u001b[0;34m\"50k_encoder\"\u001b[0m\u001b[0;34m)\u001b[0m\u001b[0;34m)\u001b[0m\u001b[0;34m\u001b[0m\u001b[0m\n",
      "\u001b[0;31mNameError\u001b[0m: global name 'EncoderRNN' is not defined"
     ]
    }
   ],
   "source": [
    "import encoder_decoder\n",
    "encoder_decoder.load_models(\"/content/\")"
   ]
  },
  {
   "cell_type": "code",
   "execution_count": 0,
   "metadata": {
    "colab": {
     "base_uri": "https://localhost:8080/",
     "height": 35
    },
    "colab_type": "code",
    "executionInfo": {
     "elapsed": 1311,
     "status": "ok",
     "timestamp": 1552466498176,
     "user": {
      "displayName": "Junyoung Kim",
      "photoUrl": "",
      "userId": "11931625421765868164"
     },
     "user_tz": -540
    },
    "id": "ev0RaHpjvHJ7",
    "outputId": "91432381-b03c-4970-aea4-3db12a9551cc"
   },
   "outputs": [
    {
     "name": "stdout",
     "output_type": "stream",
     "text": [
      "what many did the in in ? ?\n"
     ]
    }
   ],
   "source": [
    "import torch\n",
    "from encoder_decoder import evaluate\n",
    "input_text = \"Throughout her career, Beyoncé<noun> has sold over <anss> 100 million records <anse> worldwide as a solo artist, and a further 60 million records with Destiny's Child\"\n",
    "encoder = EncoderRNN(mapper.n_words, hidden_size).to(device)\n",
    "decoder = AttnDecoderRNN(hidden_size, mapper.n_words).to(device)\n",
    "encoder.load_state_dict(torch.load(\"/content/50k_encoder\"))\n",
    "decoder.load_state_dict(torch.load(\"/content/50k_decoder\"))\n",
    "output, attentions = evaluate(encoder, decoder, input_text, mapper, True)\n",
    "print(' '.join(output))"
   ]
  },
  {
   "cell_type": "code",
   "execution_count": 0,
   "metadata": {
    "colab": {},
    "colab_type": "code",
    "id": "dOp1GGCssyzy"
   },
   "outputs": [],
   "source": [
    "!git pull origin master"
   ]
  },
  {
   "cell_type": "code",
   "execution_count": 0,
   "metadata": {
    "colab": {
     "base_uri": "https://localhost:8080/",
     "height": 34
    },
    "colab_type": "code",
    "executionInfo": {
     "elapsed": 2634,
     "status": "ok",
     "timestamp": 1552449228896,
     "user": {
      "displayName": "Junyoung Kim",
      "photoUrl": "",
      "userId": "11931625421765868164"
     },
     "user_tz": -540
    },
    "id": "0eCMOInjLziV",
    "outputId": "f4d805b2-8e00-4c1f-a079-a0eb98c86d53"
   },
   "outputs": [
    {
     "name": "stdout",
     "output_type": "stream",
     "text": [
      "/content/instaquiz/ml_sent_qg\n"
     ]
    }
   ],
   "source": [
    "!pwd"
   ]
  },
  {
   "cell_type": "code",
   "execution_count": 0,
   "metadata": {
    "colab": {},
    "colab_type": "code",
    "id": "lM1fxZa4LMCU"
   },
   "outputs": [],
   "source": [
    "torch.save(encoder1.state_dict(),\"/content/50k_encoder\")"
   ]
  }
 ],
 "metadata": {
  "accelerator": "GPU",
  "colab": {
   "collapsed_sections": [],
   "name": "model_train.ipynb",
   "provenance": [],
   "version": "0.3.2"
  },
  "kernelspec": {
   "display_name": "Python 2",
   "language": "python",
   "name": "python2"
  },
  "language_info": {
   "codemirror_mode": {
    "name": "ipython",
    "version": 2
   },
   "file_extension": ".py",
   "mimetype": "text/x-python",
   "name": "python",
   "nbconvert_exporter": "python",
   "pygments_lexer": "ipython2",
   "version": "2.7.12"
  }
 },
 "nbformat": 4,
 "nbformat_minor": 1
}
